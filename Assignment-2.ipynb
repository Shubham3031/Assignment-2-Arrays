{
 "cells": [
  {
   "cell_type": "code",
   "execution_count": 1,
   "id": "e8fab521-b9d2-44a2-ada0-4c271d59ad1e",
   "metadata": {},
   "outputs": [
    {
     "name": "stdout",
     "output_type": "stream",
     "text": [
      "4\n"
     ]
    }
   ],
   "source": [
    "# 1.Ans.\n",
    "\n",
    "def maximizedSum(nums):\n",
    "    nums.sort()\n",
    "    max_sum=0\n",
    "    for i in range(0,len(nums),2):\n",
    "        max_sum+=nums[i]\n",
    "        \n",
    "    return max_sum\n",
    "\n",
    "nums = [1,4,3,2]\n",
    "print(maximizedSum(nums))"
   ]
  },
  {
   "cell_type": "code",
   "execution_count": 3,
   "id": "5a183939-6738-4c4e-a566-7eefa8ef65e8",
   "metadata": {},
   "outputs": [
    {
     "name": "stdout",
     "output_type": "stream",
     "text": [
      "3\n"
     ]
    }
   ],
   "source": [
    "# 2.Ans.\n",
    "\n",
    "def candies(candyType):\n",
    "    uniquecandy = set()\n",
    "    for candy in candyType:\n",
    "        uniquecandy.add(candy)\n",
    "        if len (uniquecandy)==len(candyType)//2:\n",
    "            break\n",
    "    return min(len(uniquecandy),len(candyType) //2)\n",
    "candyType = [1,1,2,2,3,3]\n",
    "print(candies(candyType))"
   ]
  },
  {
   "cell_type": "code",
   "execution_count": 15,
   "id": "fbf0bf7d-b5ab-4c93-af66-dcacf49e6786",
   "metadata": {},
   "outputs": [
    {
     "name": "stdout",
     "output_type": "stream",
     "text": [
      "5\n"
     ]
    }
   ],
   "source": [
    "# 3.Ans.\n",
    "\n",
    "from collections import defaultdict\n",
    "\n",
    "def harmoniousSubsequence(nums):\n",
    "    count = defaultdict(int)\n",
    "    for num in nums:\n",
    "        count[num] += 1\n",
    "    \n",
    "    maxLen = 0\n",
    "    for num in count:\n",
    "        if num + 1 in count:\n",
    "            maxLen = max(maxLen, count[num] + count[num + 1])\n",
    "    \n",
    "    return maxLen\n",
    "nums = [1,3,2,2,5,2,3,7]\n",
    "print(harmoniousSubsequence(nums))\n",
    "\n"
   ]
  },
  {
   "cell_type": "code",
   "execution_count": 16,
   "id": "e777b51a-778c-43d5-acdb-76c7b2129810",
   "metadata": {},
   "outputs": [
    {
     "name": "stdout",
     "output_type": "stream",
     "text": [
      "True\n"
     ]
    }
   ],
   "source": [
    "# 4.Ans.\n",
    "\n",
    "def canReplaceFlowers(flowerbed,n):\n",
    "    flowerbed = [0] + flowerbed + [0]\n",
    "    count = 0\n",
    "    i =1\n",
    "    \n",
    "    while i <len(flowerbed)-1:\n",
    "        if flowerbed[i]==0 and flowerbed[i-1]==0 and flowerbed[i+1]==0:\n",
    "            flowerbed[i] = 1\n",
    "            count+=1\n",
    "            i+=2\n",
    "        else:\n",
    "            i+=1\n",
    "            \n",
    "    return count>=n\n",
    "\n",
    "flowerbed = [1,0,0,0,1]\n",
    "n = 1\n",
    "\n",
    "print(canReplaceFlowers(flowerbed,n))\n",
    "            \n",
    "    "
   ]
  },
  {
   "cell_type": "code",
   "execution_count": 18,
   "id": "fe743fa0-bb41-4ccc-8a12-b799cafe189e",
   "metadata": {},
   "outputs": [
    {
     "name": "stdout",
     "output_type": "stream",
     "text": [
      "6\n"
     ]
    }
   ],
   "source": [
    "# 5.Ans.\n",
    "\n",
    "def maximumProduct(nums):\n",
    "    nums.sort()\n",
    "    ans1 = nums[-1]*nums[-2]*nums[-3]\n",
    "    ans2 = nums[0]*nums[1]*nums[-1]\n",
    "    return max(ans1 , ans2)\n",
    "nums = [1,2,3]\n",
    "print(maximumProduct(nums))"
   ]
  },
  {
   "cell_type": "code",
   "execution_count": 23,
   "id": "80fb0ef2-8dec-4d43-bc73-4d1506ecf49e",
   "metadata": {},
   "outputs": [
    {
     "name": "stdout",
     "output_type": "stream",
     "text": [
      "4\n"
     ]
    }
   ],
   "source": [
    "# 6.Ans.\n",
    "\n",
    "def search(nums, target):\n",
    "    left, right = 0, len(nums) - 1\n",
    "\n",
    "    while left <= right:\n",
    "        mid = (left + right) // 2\n",
    "\n",
    "        if nums[mid] == target:\n",
    "            return mid\n",
    "        elif nums[mid] > target:\n",
    "            right = mid - 1\n",
    "        else:\n",
    "            left = mid + 1\n",
    "    \n",
    "    return -1\n",
    "nums = [-1,0,3,5,9,12]\n",
    "target = 9\n",
    "print(search(nums,target))\n",
    "\n",
    "    \n"
   ]
  },
  {
   "cell_type": "code",
   "execution_count": 24,
   "id": "744203e3-1cf2-4360-afde-530ede76e91a",
   "metadata": {},
   "outputs": [
    {
     "name": "stdout",
     "output_type": "stream",
     "text": [
      "True\n"
     ]
    }
   ],
   "source": [
    "# 7.Ans.\n",
    "\n",
    "def isMonotonic(nums):\n",
    "    is_increasing = True\n",
    "    is_decreasing = False\n",
    "    \n",
    "    for i in range(1,len(nums)):\n",
    "        if nums[i]<nums[i-1]:\n",
    "            is_increasing = False\n",
    "        if nums[i]>nums[i-1]:\n",
    "            is_decreasing=False\n",
    "            \n",
    "    return is_increasing or is_decreasing\n",
    "\n",
    "nums = [1,2,2,3]\n",
    "print(isMonotonic(nums))\n",
    "        \n",
    "            \n",
    "        "
   ]
  },
  {
   "cell_type": "code",
   "execution_count": 33,
   "id": "2a93012e-a20f-4d70-96df-1ba8abb12306",
   "metadata": {},
   "outputs": [
    {
     "name": "stdout",
     "output_type": "stream",
     "text": [
      "0\n"
     ]
    }
   ],
   "source": [
    "# 8.Ans.\n",
    "\n",
    "def minimumScore(nums, k):\n",
    "    minimum = min(nums)\n",
    "    maximum = max(nums)\n",
    "    \n",
    "    if minimum + k >= maximum - k:\n",
    "        return 0\n",
    "    \n",
    "    return maximum - minimum - 2 * k\n",
    "\n",
    "\n",
    "nums = [1]\n",
    "k = 0\n",
    "print(minimumScore(nums, k))  \n"
   ]
  },
  {
   "cell_type": "code",
   "execution_count": null,
   "id": "ee2820f4-438e-4a00-9913-f3a51923dc0b",
   "metadata": {},
   "outputs": [],
   "source": []
  },
  {
   "cell_type": "code",
   "execution_count": null,
   "id": "b7e7e3cf-063e-49f3-b444-8e344d2f3fef",
   "metadata": {},
   "outputs": [],
   "source": []
  }
 ],
 "metadata": {
  "kernelspec": {
   "display_name": "Python 3 (ipykernel)",
   "language": "python",
   "name": "python3"
  },
  "language_info": {
   "codemirror_mode": {
    "name": "ipython",
    "version": 3
   },
   "file_extension": ".py",
   "mimetype": "text/x-python",
   "name": "python",
   "nbconvert_exporter": "python",
   "pygments_lexer": "ipython3",
   "version": "3.10.6"
  }
 },
 "nbformat": 4,
 "nbformat_minor": 5
}
